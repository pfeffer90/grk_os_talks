{
 "cells": [
  {
   "cell_type": "markdown",
   "metadata": {
    "slideshow": {
     "slide_type": "slide"
    }
   },
   "source": [
    "# What I learned at the [Open Science summer school](https://www.utrechtsummerschool.nl/courses/science/open-science-and-scholarship-changing-your-research-workflow)?"
   ]
  },
  {
   "cell_type": "markdown",
   "metadata": {
    "slideshow": {
     "slide_type": "slide"
    }
   },
   "source": [
    "# An open pledge for open science\n",
    "\n",
    "* I will not edit, review, or work for closed access journals.\n",
    "* I will blog my work and post preprints, when possible.\n",
    "* I will publish only in open access journals.\n",
    "* I will not publish in Cell, Nature, or Science.\n",
    "* I will pull my name off a paper if coauthors refuse to be open.\n",
    "* I will share my code, when possible.\n",
    "* I will share my raw and processed data, when possible.\n",
    "* I will practice open notebook science, when possible.\n",
    "* I will ask my professional society to support open access.\n",
    "* I will speak out about my choices.\n",
    "\n",
    "McKiernan, Erin (2015): Open pledge. figshare.\n",
    "https://doi.org/10.6084/m9.figshare.1609777.v3\n",
    "Retrieved: 12:15, Sep 04, 2017 (GMT)\n"
   ]
  },
  {
   "cell_type": "markdown",
   "metadata": {
    "slideshow": {
     "slide_type": "slide"
    }
   },
   "source": [
    "# Make our research workflow more open\n",
    "\n",
    "![Research workflow](research_workflow.png) \n",
    "\n",
    "by [Kramer and Bosman, 2017](https://docs.google.com/presentation/d/1abA3iIeMzLiWCaIXU5xDzXKuhVL3cHUxO07cXNuy5oE/edit#slide=id.g235946e421_2_399) "
   ]
  },
  {
   "cell_type": "markdown",
   "metadata": {
    "slideshow": {
     "slide_type": "slide"
    }
   },
   "source": [
    "# What I will do different ...\n",
    "* publish posters or slides at F1000, figshare, ...\n",
    "* publish data at zenodo.org\n",
    "* share my code on github and provide open notebooks\n",
    "* add a license for easy sharing\n",
    "* ask the GRK for OpenAccess funding\n",
    "* give a Science Slam "
   ]
  },
  {
   "cell_type": "markdown",
   "metadata": {
    "slideshow": {
     "slide_type": "slide"
    }
   },
   "source": [
    "# What I want to look at in the future ...\n",
    "\n",
    "* learn about RIO, an online journal to publish all research output from proposals to results\n",
    "* test tools like openknowledgemap or Papr\n",
    "* use hypothesis for collaborative reading and annotations\n",
    "* read open reviews in journals like F1000 or eLife\n",
    "* move to open tools like Zotero instead of Mendeley"
   ]
  },
  {
   "cell_type": "markdown",
   "metadata": {
    "slideshow": {
     "slide_type": "slide"
    }
   },
   "source": [
    "# What do you want from a Q&A on open science?\n",
    "\n",
    "* [Document to provide suggestions for a Q&A on open science practices](https://public.etherpad-mozilla.org/p/grk_open_science_qanda)\n",
    "* [Program of the school and further links](https://docs.google.com/document/d/1wiVoLXz6wsFwpL0zmAoIyGH_wTwHHly1t-ZgZtxm8NE/edit)\n",
    "* [A role model in open science](https://figshare.com/articles/My_pledge_to_be_open_Yeah_how_s_that_going_/1603167)"
   ]
  }
 ],
 "metadata": {
  "celltoolbar": "Slideshow",
  "kernelspec": {
   "display_name": "Python 2",
   "language": "python",
   "name": "python2"
  },
  "language_info": {
   "codemirror_mode": {
    "name": "ipython",
    "version": 2
   },
   "file_extension": ".py",
   "mimetype": "text/x-python",
   "name": "python",
   "nbconvert_exporter": "python",
   "pygments_lexer": "ipython2",
   "version": "2.7.12"
  }
 },
 "nbformat": 4,
 "nbformat_minor": 2
}
